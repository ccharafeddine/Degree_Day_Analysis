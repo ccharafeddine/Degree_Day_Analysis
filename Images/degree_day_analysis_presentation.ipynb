{
 "cells": [
  {
   "cell_type": "markdown",
   "metadata": {
    "slideshow": {
     "slide_type": "slide"
    }
   },
   "source": [
    "\n",
    "# SNOW-POCOLYPSE 2021\n",
    "\n"
   ]
  },
  {
   "cell_type": "markdown",
   "metadata": {
    "slideshow": {
     "slide_type": "slide"
    }
   },
   "source": [
    "## Executive Summary/Project Overview \n",
    "\n",
    "Determining the economic impact of the Texas Winter Storm of 2021 (Snow-pocolypse) by analyzing energy supply prices in correlation with demand and ambient temperature data.\n",
    "\n"
   ]
  },
  {
   "cell_type": "markdown",
   "metadata": {
    "slideshow": {
     "slide_type": "slide"
    }
   },
   "source": [
    "## Data Collection, Cleanup & Exploration\n",
    "\n",
    "- [ERCOT](http://www.ercot.com/about)  - Electric Reliablity Counsil of Texas (Settlement Prices and 15 minute intervals)\n",
    "\n",
    "- [Degree Days](https://www.degreedays.net/about) - Calculation of how much eneregy to main a certain tempature on a specific day. We used this to help measure enery consulption on a specific day. \n",
    "  \n",
    "- [Weather Underground](https://www.wunderground.com/about/our-company)- Hourly weather data per city\n"
   ]
  },
  {
   "cell_type": "markdown",
   "metadata": {
    "slideshow": {
     "slide_type": "subslide"
    }
   },
   "source": [
    "### Data Collection\n",
    "\n",
    "- ERCOT (Electric Reliablity Counsil of Texas) - Downloaded \"Real-Time Market Price\" Excel spread sheet from their website\n",
    "\n",
    "- Degree Days - Downloaded .CSV files using search tool to go back 36 months.\n",
    "\n",
    "- Weather Underground  - Screen scraping to to get hourly weather data using splinter and beautiful soup\n",
    "    "
   ]
  },
  {
   "cell_type": "markdown",
   "metadata": {
    "slideshow": {
     "slide_type": "subslide"
    }
   },
   "source": [
    "### Data Cleanup\n",
    "\n",
    "- #### ERCOT: \n",
    "    1. Slice data to specific settlement points \n",
    "    2. Remove commas from price\n",
    "\n",
    "- #### Degree Days \n",
    "    1. Not much clean-up required\n",
    "    2. Slice to a relevant dataset based on month \n",
    "\n",
    "- #### Weather Underground \n",
    "    1. Remove non unicode characters (degree symbol removed) \n",
    "    2. Remove the letter 'F' in defining Fahrenheit as the temperature scale. \n"
   ]
  },
  {
   "cell_type": "markdown",
   "metadata": {
    "slideshow": {
     "slide_type": "slide"
    }
   },
   "source": [
    "### Data Exploration\n"
   ]
  },
  {
   "cell_type": "markdown",
   "metadata": {
    "slideshow": {
     "slide_type": "subslide"
    }
   },
   "source": [
    "#### Energy Prices"
   ]
  },
  {
   "cell_type": "markdown",
   "metadata": {
    "slideshow": {
     "slide_type": "subslide"
    }
   },
   "source": [
    "#### Energy Demand"
   ]
  },
  {
   "cell_type": "markdown",
   "metadata": {
    "slideshow": {
     "slide_type": "subslide"
    }
   },
   "source": [
    "#### Ambient Temperature"
   ]
  },
  {
   "cell_type": "markdown",
   "metadata": {
    "slideshow": {
     "slide_type": "slide"
    }
   },
   "source": [
    "## The approach that your group took in achieving the project goals.\n",
    "\n",
    "- Created individual Python files to stage and cleanse the data one time and push it into a database\n",
    "\n",
    "- After initial plots of the data we started to look for news articles that may have contributed to what the data was reflecting.\n",
    "\n",
    "- Plotting data that linear in when we wanted to present the data as a over-lay visualization.\n",
    " \n",
    " \n",
    "Challenges:\n",
    " Screen scraping weather from \n",
    " Formatting the data to create an overlay plot from time series data\n",
    " "
   ]
  },
  {
   "cell_type": "markdown",
   "metadata": {
    "slideshow": {
     "slide_type": "slide"
    }
   },
   "source": [
    "## The results/conclusions of the financial application or analysis.\n",
    "\n",
    "Be sure to include relevant images or examples to support your work.\n",
    "\n",
    "If the project goal was not achieved, talk about the issues and what was attempted to resolve the issues.\n",
    "\n",
    "\n"
   ]
  },
  {
   "cell_type": "markdown",
   "metadata": {
    "slideshow": {
     "slide_type": "slide"
    }
   },
   "source": [
    "## Next Steps.\n",
    "\n",
    "- Build predicitive modles to project energy prices praticularly during un anticipatged inclimate weather.\n",
    "\n",
    "- What  would the correlation look like if we had actuals for energy consulption?\n",
    "\n",
    "- Why did ERCOT hold prices at the max limits for two days longer than they had to? (Supply increased and ambient tempature increased.)\n"
   ]
  }
 ],
 "metadata": {
  "celltoolbar": "Slideshow",
  "interpreter": {
   "hash": "b3ba2566441a7c06988d0923437866b63cedc61552a5af99d1f4fb67d367b25f"
  },
  "kernelspec": {
   "display_name": "Python 3.9.4 64-bit ('dev': conda)",
   "language": "python",
   "name": "python394jvsc74a57bd00a6b53b808be22ed9015cf5d408376640e4deef689ef9b186ab992a818d0bc32"
  },
  "language_info": {
   "codemirror_mode": {
    "name": "ipython",
    "version": 3
   },
   "file_extension": ".py",
   "mimetype": "text/x-python",
   "name": "python",
   "nbconvert_exporter": "python",
   "pygments_lexer": "ipython3",
   "version": "3.9.4"
  },
  "rise": {
   "autolauch": true
  }
 },
 "nbformat": 4,
 "nbformat_minor": 4
}
