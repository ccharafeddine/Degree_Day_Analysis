{
 "cells": [
  {
   "cell_type": "markdown",
   "id": "f2963eda",
   "metadata": {},
   "source": [
    "# Degree Day Analysis\n"
   ]
  },
  {
   "cell_type": "code",
   "execution_count": 13,
   "id": "9388f074",
   "metadata": {},
   "outputs": [],
   "source": [
    "from pathlib import Path\n",
    "import datetime as dt\n",
    "import numpy as np\n",
    "import pandas as pd\n",
    "import hvplot.pandas\n",
    "import sqlalchemy\n",
    "import helpful_functions as hf\n",
    "%matplotlib inline"
   ]
  },
  {
   "cell_type": "markdown",
   "id": "ff695e1d",
   "metadata": {},
   "source": [
    "## Import Data from Database"
   ]
  },
  {
   "cell_type": "code",
   "execution_count": 14,
   "id": "c580d326",
   "metadata": {
    "collapsed": true,
    "jupyter": {
     "outputs_hidden": true,
     "source_hidden": true
    }
   },
   "outputs": [
    {
     "name": "stdout",
     "output_type": "stream",
     "text": [
      "Engine(sqlite:///Resources/energy_data.db)\n"
     ]
    },
    {
     "data": {
      "text/plain": [
       "['DegreeDays_2020',\n",
       " 'DegreeDays_2021',\n",
       " 'DegreeDays_Austin_2020',\n",
       " 'DegreeDays_Austin_2021',\n",
       " 'DegreeDays_Corpus_Christi_2020',\n",
       " 'DegreeDays_Corpus_Christi_2021',\n",
       " 'DegreeDays_Dallas_2020',\n",
       " 'DegreeDays_Dallas_2021',\n",
       " 'DegreeDays_Houston_2020',\n",
       " 'DegreeDays_Houston_2021',\n",
       " 'DegreeDays_San_Angelo_2020',\n",
       " 'DegreeDays_San_Angelo_2021',\n",
       " 'DegreeDays_San_Antonio_2020',\n",
       " 'DegreeDays_San_Antonio_2021',\n",
       " 'ERCOT_2020',\n",
       " 'ERCOT_2021',\n",
       " 'ERCOT_Austin_2020',\n",
       " 'ERCOT_Austin_2021',\n",
       " 'ERCOT_Corpus_Christi_2020',\n",
       " 'ERCOT_Corpus_Christi_2021',\n",
       " 'ERCOT_Dallas_2020',\n",
       " 'ERCOT_Dallas_2021',\n",
       " 'ERCOT_Houston_2020',\n",
       " 'ERCOT_Houston_2021',\n",
       " 'ERCOT_San_Angelo_2020',\n",
       " 'ERCOT_San_Angelo_2021',\n",
       " 'ERCOT_San_Antonio_2020',\n",
       " 'ERCOT_San_Antonio_2021',\n",
       " 'WU_Austin_2020',\n",
       " 'WU_Austin_2021',\n",
       " 'WU_Corpus_Christi_2020',\n",
       " 'WU_Corpus_Christi_2021',\n",
       " 'WU_Dallas_2020',\n",
       " 'WU_Dallas_2021',\n",
       " 'WU_Houston_2020',\n",
       " 'WU_Houston_2021',\n",
       " 'WU_San_Angelo_2020',\n",
       " 'WU_San_Angelo_2021',\n",
       " 'WU_San_Antonio_2020',\n",
       " 'WU_San_Antonio_2021']"
      ]
     },
     "execution_count": 14,
     "metadata": {},
     "output_type": "execute_result"
    }
   ],
   "source": [
    "engine = sqlalchemy.create_engine(hf.db_connection_string)\n",
    "inspector = sqlalchemy.inspect(engine)\n",
    "# print(engine)\n",
    "# inspector.get_table_names()"
   ]
  },
  {
   "cell_type": "code",
   "execution_count": 15,
   "id": "61497c7f",
   "metadata": {},
   "outputs": [],
   "source": [
    "def gen_dd_df(\n",
    "    city, \n",
    "    year, \n",
    "    data_source='DegreeDays',\n",
    "    new_col_name=None,\n",
    "    old_col_name='HDD 65', \n",
    "    engine=engine\n",
    "):\n",
    "    df = pd.read_sql_table(\n",
    "        '_'.join([data_source, city, year]),\n",
    "        con=engine\n",
    "    )\n",
    "    if new_col_name is not None:\n",
    "        df.rename(columns={old_col_name: new_col_name}, inplace=True)\n",
    "    return df\n",
    "\n"
   ]
  },
  {
   "cell_type": "code",
   "execution_count": 16,
   "id": "037861da",
   "metadata": {},
   "outputs": [
    {
     "name": "stdout",
     "output_type": "stream",
     "text": [
      "\n",
      " ________________________________________________________________________________ Austin 2020\n",
      "     City  Year                Date        Overlay_Date  HDD 65\n",
      "0  Austin  2020 2020-02-01 00:00:00 1900-02-01 00:00:00    15.2\n",
      "1  Austin  2020 2020-02-01 00:00:00 1900-02-01 00:00:00    15.2\n",
      "2  Austin  2020 2020-02-01 00:15:00 1900-02-01 00:15:00    15.2\n",
      "3  Austin  2020 2020-02-01 00:30:00 1900-02-01 00:30:00    15.2\n",
      "4  Austin  2020 2020-02-01 00:45:00 1900-02-01 00:45:00    15.2\n",
      "\n",
      " ________________________________________________________________________________ Austin 2021\n",
      "     City  Year                Date        Overlay_Date  HDD 65\n",
      "0  Austin  2021 2021-02-01 00:00:00 1900-02-01 00:00:00    15.4\n",
      "1  Austin  2021 2021-02-01 00:00:00 1900-02-01 00:00:00    15.4\n",
      "2  Austin  2021 2021-02-01 00:15:00 1900-02-01 00:15:00    15.4\n",
      "3  Austin  2021 2021-02-01 00:30:00 1900-02-01 00:30:00    15.4\n",
      "4  Austin  2021 2021-02-01 00:45:00 1900-02-01 00:45:00    15.4\n",
      "\n",
      " ________________________________________________________________________________ Corpus_Christi 2020\n",
      "             City  Year                Date        Overlay_Date  HDD 65\n",
      "0  Corpus_Christi  2020 2020-02-01 00:00:00 1900-02-01 00:00:00    11.0\n",
      "1  Corpus_Christi  2020 2020-02-01 00:00:00 1900-02-01 00:00:00    11.0\n",
      "2  Corpus_Christi  2020 2020-02-01 00:15:00 1900-02-01 00:15:00    11.0\n",
      "3  Corpus_Christi  2020 2020-02-01 00:30:00 1900-02-01 00:30:00    11.0\n",
      "4  Corpus_Christi  2020 2020-02-01 00:45:00 1900-02-01 00:45:00    11.0\n",
      "\n",
      " ________________________________________________________________________________ Corpus_Christi 2021\n",
      "             City  Year                Date        Overlay_Date  HDD 65\n",
      "0  Corpus_Christi  2021 2021-02-01 00:00:00 1900-02-01 00:00:00     9.2\n",
      "1  Corpus_Christi  2021 2021-02-01 00:00:00 1900-02-01 00:00:00     9.2\n",
      "2  Corpus_Christi  2021 2021-02-01 00:15:00 1900-02-01 00:15:00     9.2\n",
      "3  Corpus_Christi  2021 2021-02-01 00:30:00 1900-02-01 00:30:00     9.2\n",
      "4  Corpus_Christi  2021 2021-02-01 00:45:00 1900-02-01 00:45:00     9.2\n",
      "\n",
      " ________________________________________________________________________________ Dallas 2020\n",
      "     City  Year                Date        Overlay_Date  HDD 65\n",
      "0  Dallas  2020 2020-02-01 00:00:00 1900-02-01 00:00:00    14.5\n",
      "1  Dallas  2020 2020-02-01 00:00:00 1900-02-01 00:00:00    14.5\n",
      "2  Dallas  2020 2020-02-01 00:15:00 1900-02-01 00:15:00    14.5\n",
      "3  Dallas  2020 2020-02-01 00:30:00 1900-02-01 00:30:00    14.5\n",
      "4  Dallas  2020 2020-02-01 00:45:00 1900-02-01 00:45:00    14.5\n",
      "\n",
      " ________________________________________________________________________________ Dallas 2021\n",
      "     City  Year                Date        Overlay_Date  HDD 65\n",
      "0  Dallas  2021 2021-02-01 00:00:00 1900-02-01 00:00:00    18.6\n",
      "1  Dallas  2021 2021-02-01 00:00:00 1900-02-01 00:00:00    18.6\n",
      "2  Dallas  2021 2021-02-01 00:15:00 1900-02-01 00:15:00    18.6\n",
      "3  Dallas  2021 2021-02-01 00:30:00 1900-02-01 00:30:00    18.6\n",
      "4  Dallas  2021 2021-02-01 00:45:00 1900-02-01 00:45:00    18.6\n",
      "\n",
      " ________________________________________________________________________________ Houston 2020\n",
      "      City  Year                Date        Overlay_Date  HDD 65\n",
      "0  Houston  2020 2020-02-01 00:00:00 1900-02-01 00:00:00    10.6\n",
      "1  Houston  2020 2020-02-01 00:00:00 1900-02-01 00:00:00    10.6\n",
      "2  Houston  2020 2020-02-01 00:15:00 1900-02-01 00:15:00    10.6\n",
      "3  Houston  2020 2020-02-01 00:30:00 1900-02-01 00:30:00    10.6\n",
      "4  Houston  2020 2020-02-01 00:45:00 1900-02-01 00:45:00    10.6\n",
      "\n",
      " ________________________________________________________________________________ Houston 2021\n",
      "      City  Year                Date        Overlay_Date  HDD 65\n",
      "0  Houston  2021 2021-02-01 00:00:00 1900-02-01 00:00:00    11.2\n",
      "1  Houston  2021 2021-02-01 00:00:00 1900-02-01 00:00:00    11.2\n",
      "2  Houston  2021 2021-02-01 00:15:00 1900-02-01 00:15:00    11.2\n",
      "3  Houston  2021 2021-02-01 00:30:00 1900-02-01 00:30:00    11.2\n",
      "4  Houston  2021 2021-02-01 00:45:00 1900-02-01 00:45:00    11.2\n",
      "\n",
      " ________________________________________________________________________________ San_Angelo 2020\n",
      "         City  Year                Date        Overlay_Date  HDD 65\n",
      "0  San_Angelo  2020 2020-02-01 00:00:00 1900-02-01 00:00:00    16.9\n",
      "1  San_Angelo  2020 2020-02-01 00:00:00 1900-02-01 00:00:00    16.9\n",
      "2  San_Angelo  2020 2020-02-01 00:15:00 1900-02-01 00:15:00    16.9\n",
      "3  San_Angelo  2020 2020-02-01 00:30:00 1900-02-01 00:30:00    16.9\n",
      "4  San_Angelo  2020 2020-02-01 00:45:00 1900-02-01 00:45:00    16.9\n",
      "\n",
      " ________________________________________________________________________________ San_Angelo 2021\n",
      "         City  Year                Date        Overlay_Date  HDD 65\n",
      "0  San_Angelo  2021 2021-02-01 00:00:00 1900-02-01 00:00:00    19.7\n",
      "1  San_Angelo  2021 2021-02-01 00:00:00 1900-02-01 00:00:00    19.7\n",
      "2  San_Angelo  2021 2021-02-01 00:15:00 1900-02-01 00:15:00    19.7\n",
      "3  San_Angelo  2021 2021-02-01 00:30:00 1900-02-01 00:30:00    19.7\n",
      "4  San_Angelo  2021 2021-02-01 00:45:00 1900-02-01 00:45:00    19.7\n",
      "\n",
      " ________________________________________________________________________________ San_Antonio 2020\n",
      "          City  Year                Date        Overlay_Date  HDD 65\n",
      "0  San_Antonio  2020 2020-02-01 00:00:00 1900-02-01 00:00:00    11.4\n",
      "1  San_Antonio  2020 2020-02-01 00:00:00 1900-02-01 00:00:00    11.4\n",
      "2  San_Antonio  2020 2020-02-01 00:15:00 1900-02-01 00:15:00    11.4\n",
      "3  San_Antonio  2020 2020-02-01 00:30:00 1900-02-01 00:30:00    11.4\n",
      "4  San_Antonio  2020 2020-02-01 00:45:00 1900-02-01 00:45:00    11.4\n",
      "\n",
      " ________________________________________________________________________________ San_Antonio 2021\n",
      "          City  Year                Date        Overlay_Date  HDD 65\n",
      "0  San_Antonio  2021 2021-02-01 00:00:00 1900-02-01 00:00:00    10.6\n",
      "1  San_Antonio  2021 2021-02-01 00:00:00 1900-02-01 00:00:00    10.6\n",
      "2  San_Antonio  2021 2021-02-01 00:15:00 1900-02-01 00:15:00    10.6\n",
      "3  San_Antonio  2021 2021-02-01 00:30:00 1900-02-01 00:30:00    10.6\n",
      "4  San_Antonio  2021 2021-02-01 00:45:00 1900-02-01 00:45:00    10.6\n"
     ]
    }
   ],
   "source": [
    "dti_dict = {\n",
    "    '2020' : pd.DataFrame(pd.date_range(\"2020-02-01\", periods=24*28*4, freq=\"15T\", name='Date')),\n",
    "    '2021' : pd.DataFrame(pd.date_range(\"2021-02-01\", periods=24*28*4, freq=\"15T\", name='Date'))\n",
    "}\n",
    "\n",
    "dd_df_dict = {}\n",
    "for city in hf.city_list_2:\n",
    "    dd_df_dict[city] = {}\n",
    "    for year in hf.year_list:\n",
    "        print('\\n', 80*'_', city, year, )\n",
    "        dd_df_dict[city][year] = gen_dd_df(city, year)\n",
    "        dd_df_dict[city][year] = pd.concat([dd_df_dict[city][year], dti_dict[year]],join='outer',)\n",
    "        dd_df_dict[city][year].sort_values('Date', inplace=True)\n",
    "        dd_df_dict[city][year] = dd_df_dict[city][year].reindex(columns=['City', 'Year', 'Date', 'Overlay_Date', 'HDD 65']).reset_index(drop=True)\n",
    "        dd_df_dict[city][year]['HDD 65'] = dd_df_dict[city][year]['HDD 65'].interpolate(method='pad')\n",
    "        dd_df_dict[city][year]['City'] = city\n",
    "        dd_df_dict[city][year]['Year'] = year\n",
    "        dd_df_dict[city][year]['Overlay_Date'] = dd_df_dict[city][year]['Date'].apply(lambda x: x.replace(year=1900))\n",
    "        dd_df_dict[city][year]['Date'] = dd_df_dict[city][year]['Date'].apply(lambda x: x.to_pydatetime())\n",
    "        print(dd_df_dict[city][year].head())"
   ]
  }
 ],
 "metadata": {
  "kernelspec": {
   "display_name": "dev",
   "language": "python",
   "name": "dev"
  },
  "language_info": {
   "codemirror_mode": {
    "name": "ipython",
    "version": 3
   },
   "file_extension": ".py",
   "mimetype": "text/x-python",
   "name": "python",
   "nbconvert_exporter": "python",
   "pygments_lexer": "ipython3",
   "version": "3.7.10"
  }
 },
 "nbformat": 4,
 "nbformat_minor": 5
}
