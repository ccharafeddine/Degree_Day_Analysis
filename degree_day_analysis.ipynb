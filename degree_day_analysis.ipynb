{
 "cells": [
  {
   "cell_type": "markdown",
   "id": "0af9a5c2",
   "metadata": {},
   "source": [
    "# Degree Day Analysis\n"
   ]
  },
  {
   "cell_type": "code",
   "execution_count": 11,
   "id": "ab280d07",
   "metadata": {},
   "outputs": [],
   "source": [
    "# Import the required libraries and dependencies\n",
    "import os\n",
    "from dotenv import load_dotenv\n",
    "from pathlib import Path\n",
    "import pandas as pd\n",
    "import hvplot.pandas\n",
    "import plotly.express as px"
   ]
  },
  {
   "cell_type": "markdown",
   "id": "79cad3a6",
   "metadata": {},
   "source": [
    "## Enable your Mapbox API access token"
   ]
  },
  {
   "cell_type": "code",
   "execution_count": 12,
   "id": "7d3f23e1",
   "metadata": {},
   "outputs": [
    {
     "name": "stdout",
     "output_type": "stream",
     "text": [
      "Mapbox API loaded.\n"
     ]
    }
   ],
   "source": [
    "# Load the .env file into the notebook\n",
    "load_dotenv()\n",
    "\n",
    "# Read in your MAPBOX_API_KEY\n",
    "mapbox_api_access_token = os.getenv(\"MAPBOX_API_ACCESS_TOKEN\")\n",
    "\n",
    "# Confirm the availability of your Mapbox API access token by checking its type\n",
    "if type(mapbox_api_access_token) == type(''):\n",
    "    # Set your Mapbox API access token\n",
    "    px.set_mapbox_access_token(mapbox_api_access_token)\n",
    "    print('Mapbox API loaded.')\n",
    "else:\n",
    "    print('Error loading Mapbox API Token. Check your .env file.')"
   ]
  },
  {
   "cell_type": "markdown",
   "id": "f457f3ef",
   "metadata": {},
   "source": [
    "## Import the data"
   ]
  },
  {
   "cell_type": "code",
   "execution_count": null,
   "id": "fb6bf507",
   "metadata": {},
   "outputs": [],
   "source": [
    "# Using the read_csv function and Path module, create a DataFrame \n"
   ]
  }
 ],
 "metadata": {
  "kernelspec": {
   "display_name": "dev",
   "language": "python",
   "name": "dev"
  },
  "language_info": {
   "codemirror_mode": {
    "name": "ipython",
    "version": 3
   },
   "file_extension": ".py",
   "mimetype": "text/x-python",
   "name": "python",
   "nbconvert_exporter": "python",
   "pygments_lexer": "ipython3",
   "version": "3.7.10"
  }
 },
 "nbformat": 4,
 "nbformat_minor": 5
}
